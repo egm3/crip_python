{
  "nbformat": 4,
  "nbformat_minor": 0,
  "metadata": {
    "colab": {
      "provenance": [],
      "authorship_tag": "ABX9TyPT7PkSxPmNo2cnJOk/zu6s",
      "include_colab_link": true
    },
    "kernelspec": {
      "name": "python3",
      "display_name": "Python 3"
    },
    "language_info": {
      "name": "python"
    }
  },
  "cells": [
    {
      "cell_type": "markdown",
      "metadata": {
        "id": "view-in-github",
        "colab_type": "text"
      },
      "source": [
        "<a href=\"https://colab.research.google.com/github/egm3/crip_python/blob/main/Untitled0.ipynb\" target=\"_parent\"><img src=\"https://colab.research.google.com/assets/colab-badge.svg\" alt=\"Open In Colab\"/></a>"
      ]
    },
    {
      "cell_type": "code",
      "execution_count": 1,
      "metadata": {
        "id": "P4cMfZA-KOxj"
      },
      "outputs": [],
      "source": [
        "def crip(TEXTO, KEY):\n",
        "    res = \"\"\n",
        "    for i in range(0, len(TEXTO)) :\n",
        "        ci = ord(TEXTO[i]) + ord(KEY[i])\n",
        "        ci -= 65\n",
        "        if ci > 90:\n",
        "            ci = ci % 91\n",
        "            ci+= 65\n",
        "        res += chr(ci)\n",
        "        \n",
        "    return res\n",
        "        #colocar o correspondente de ci no texto a ser encriptado.\n"
      ]
    },
    {
      "cell_type": "code",
      "source": [
        "def decrip(TEXTO, KEY):\n",
        "  res = \"\"\n",
        "  for i in range(0, len(TEXTO)):\n",
        "    pi = ord(KEY[i]) - ord(TEXTO[i])\n",
        "    if pi > 0:\n",
        "      pi -= 26\n",
        "    pi -= 65\n",
        "    pi = pi * (-1)\n",
        "    \n",
        "    if pi > 90:\n",
        "      pi = pi % 91\n",
        "      pi += 65\n",
        "\n",
        "    res += chr(pi)\n",
        "\n",
        "  return res\n"
      ],
      "metadata": {
        "id": "KLvzWFYq8pc4"
      },
      "execution_count": 2,
      "outputs": []
    },
    {
      "cell_type": "code",
      "source": [
        "def operacao(comando, texto, key):\n",
        "    \n",
        "    if comando == 1:\n",
        "        saida.write(crip(texto, key))\n",
        "        print('MENSAGEM CRIPTOGRAFADA')\n",
        "    else:\n",
        "        saida.write(decrip(texto, key))\n",
        "        print('MENSAGEM DESCRIPTOGRAFADA')"
      ],
      "metadata": {
        "id": "zDNK2BjUKWD2"
      },
      "execution_count": 3,
      "outputs": []
    },
    {
      "cell_type": "code",
      "source": [
        "print(\"Digite 1 para encriptar mensagem ou 0 para desencriptar\")\n",
        "comando = int(input())\n",
        "print(\"Coloque sua chave:\")\n",
        "key = input()\n",
        "\n",
        "entrada = open(\"input.txt\", \"r\")\n",
        "saida = open(\"output.txt\", \"w\")\n",
        "texto = entrada.read()\n",
        "\n",
        "tam_key = len(key)\n",
        "\n",
        "\n",
        "while(len(key) < len(texto)):\n",
        "    for i in range(0, tam_key):\n",
        "        key+=key[i]\n",
        "        if len(key) >= len(texto):\n",
        "            i = tam_key\n",
        "\n",
        "TEXTO = texto.upper()\n",
        "KEY = key.upper()           \n",
        "        \n",
        "operacao(comando, TEXTO, KEY)\n",
        "entrada.close()\n",
        "saida.close()"
      ],
      "metadata": {
        "colab": {
          "base_uri": "https://localhost:8080/"
        },
        "id": "IccVxZpsKYzj",
        "outputId": "7d032dd1-9e6f-401f-db5b-02ab92a6220d"
      },
      "execution_count": null,
      "outputs": [
        {
          "output_type": "stream",
          "name": "stdout",
          "text": [
            "Digite 1 para encriptar mensagem ou 0 para desencriptar\n"
          ]
        }
      ]
    },
    {
      "cell_type": "code",
      "source": [],
      "metadata": {
        "id": "Pctqp14N7K1Q"
      },
      "execution_count": null,
      "outputs": []
    }
  ]
}